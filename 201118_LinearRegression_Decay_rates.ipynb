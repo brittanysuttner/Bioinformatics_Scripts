{
 "cells": [
  {
   "cell_type": "code",
   "execution_count": 1,
   "metadata": {},
   "outputs": [],
   "source": [
    "import pandas as pd\n",
    "import numpy as np\n",
    "from sklearn.linear_model import LinearRegression\n",
    "from sklearn.metrics import mean_squared_error, r2_score"
   ]
  },
  {
   "cell_type": "code",
   "execution_count": 44,
   "metadata": {
    "scrolled": false
   },
   "outputs": [],
   "source": [
    "#Read decay tables with Zeroes as NaN\n",
    "hum = pd.read_csv(\"hum_MAGs_Abundance.txt\", sep='\\t', index_col=0, na_values=0.0, header=None)\n",
    "hum.shape  #15 rows\n",
    "\n",
    "cow_pig = pd.read_csv(\"cow_pig_absAbundance.txt\", sep='\\t', index_col=0, na_values=0.0, header=None)\n",
    "cow_pig.shape  #28 rows\n",
    "\n",
    "df = pd.read_csv(\"Absolute_abundances_all_markers.txt\", sep='\\t',index_col=0, na_values=0.0, header=None)\n",
    "df.shape #51 rows\n",
    "\n",
    "#Break up by those that have 3, 4 or 5 abundance values to estimate decay rate\n",
    "df3 = df.iloc[:37]  #37 rows\n",
    "df4 = df.iloc[37:46] #9 rows\n",
    "df5 = df.iloc[46:]   #5 rows"
   ]
  },
  {
   "cell_type": "code",
   "execution_count": 45,
   "metadata": {
    "scrolled": true
   },
   "outputs": [
    {
     "name": "stdout",
     "output_type": "stream",
     "text": [
      "[[0]\n",
      " [1]\n",
      " [4]]\n",
      "                         1          2          3   4\n",
      "0                                                   \n",
      "hum1_001 in  H1  16.606676  16.901997  15.006398 NaN\n",
      "hum1_013 in H1   13.721200  13.835313  13.270783 NaN\n",
      "hum1_2 in H1     15.243427  15.496338  14.220976 NaN\n",
      "hum2_001 in H1   15.209277  15.509290  14.513645 NaN\n",
      "hum3_001 in H1   14.682611  15.048071  14.173185 NaN\n"
     ]
    },
    {
     "data": {
      "text/html": [
       "<div>\n",
       "<style scoped>\n",
       "    .dataframe tbody tr th:only-of-type {\n",
       "        vertical-align: middle;\n",
       "    }\n",
       "\n",
       "    .dataframe tbody tr th {\n",
       "        vertical-align: top;\n",
       "    }\n",
       "\n",
       "    .dataframe thead th {\n",
       "        text-align: right;\n",
       "    }\n",
       "</style>\n",
       "<table border=\"1\" class=\"dataframe\">\n",
       "  <thead>\n",
       "    <tr style=\"text-align: right;\">\n",
       "      <th></th>\n",
       "      <th>1</th>\n",
       "      <th>2</th>\n",
       "      <th>3</th>\n",
       "      <th>4</th>\n",
       "      <th>5</th>\n",
       "    </tr>\n",
       "    <tr>\n",
       "      <th>0</th>\n",
       "      <th></th>\n",
       "      <th></th>\n",
       "      <th></th>\n",
       "      <th></th>\n",
       "      <th></th>\n",
       "    </tr>\n",
       "  </thead>\n",
       "  <tbody>\n",
       "    <tr>\n",
       "      <th>HF183 in H1</th>\n",
       "      <td>0.724276</td>\n",
       "      <td>0.758155</td>\n",
       "      <td>0.804139</td>\n",
       "      <td>NaN</td>\n",
       "      <td>NaN</td>\n",
       "    </tr>\n",
       "    <tr>\n",
       "      <th>hum1_001 in H1</th>\n",
       "      <td>7.212188</td>\n",
       "      <td>7.340444</td>\n",
       "      <td>6.517196</td>\n",
       "      <td>NaN</td>\n",
       "      <td>NaN</td>\n",
       "    </tr>\n",
       "    <tr>\n",
       "      <th>hum1_013 in H1</th>\n",
       "      <td>5.959041</td>\n",
       "      <td>6.008600</td>\n",
       "      <td>5.763428</td>\n",
       "      <td>NaN</td>\n",
       "      <td>NaN</td>\n",
       "    </tr>\n",
       "    <tr>\n",
       "      <th>hum1_2 in H1</th>\n",
       "      <td>6.620136</td>\n",
       "      <td>6.729974</td>\n",
       "      <td>6.176091</td>\n",
       "      <td>NaN</td>\n",
       "      <td>NaN</td>\n",
       "    </tr>\n",
       "    <tr>\n",
       "      <th>hum2_001 in H1</th>\n",
       "      <td>6.605305</td>\n",
       "      <td>6.735599</td>\n",
       "      <td>6.303196</td>\n",
       "      <td>NaN</td>\n",
       "      <td>NaN</td>\n",
       "    </tr>\n",
       "  </tbody>\n",
       "</table>\n",
       "</div>"
      ],
      "text/plain": [
       "                       1         2         3   4   5\n",
       "0                                                   \n",
       "HF183 in H1     0.724276  0.758155  0.804139 NaN NaN\n",
       "hum1_001 in H1  7.212188  7.340444  6.517196 NaN NaN\n",
       "hum1_013 in H1  5.959041  6.008600  5.763428 NaN NaN\n",
       "hum1_2 in H1    6.620136  6.729974  6.176091 NaN NaN\n",
       "hum2_001 in H1  6.605305  6.735599  6.303196 NaN NaN"
      ]
     },
     "execution_count": 45,
     "metadata": {},
     "output_type": "execute_result"
    }
   ],
   "source": [
    "#Global x variable for all regressions (must be same length as y-variable)\n",
    "#Format as numpy array\n",
    "X3 = np.array([0,1,4]).reshape(-1,1)\n",
    "X4 = np.array([0,1,4,7]).reshape(-1,1)\n",
    "X5 = np.array([0,1,4,7,14]).reshape(-1,1)\n",
    "print(X3)\n",
    "\n",
    "#ln transform every value in table\n",
    "lnHUM = np.log(hum)\n",
    "lnCP = np.log(cow_pig)\n",
    "print(lnHUM.head())\n",
    "\n",
    "#log base 10 transform every value in the table\n",
    "logdf3 = np.log10(df3)\n",
    "logdf4 = np.log10(df4)\n",
    "logdf5 = np.log10(df5)\n",
    "logdf3.head()\n",
    "\n",
    "#Calc Inverse for each value in table. Dont use the 2nd order decay!\n",
    "#invHUM = 1/hum\n",
    "#invCP = np.reciprocal(cow_pig)"
   ]
  },
  {
   "cell_type": "code",
   "execution_count": 79,
   "metadata": {},
   "outputs": [
    {
     "name": "stdout",
     "output_type": "stream",
     "text": [
      "[1.31803017e-05]\n",
      "-1.0825306299754337e-05\n",
      "0.8206751908479997\n",
      "2.846957852903951e-10\n",
      "[-1.08253063e-05  2.35499538e-06  4.18959004e-05  8.14368055e-05]\n"
     ]
    },
    {
     "data": {
      "text/plain": [
       "1.0000814401215585"
      ]
     },
     "execution_count": 79,
     "metadata": {},
     "output_type": "execute_result"
    }
   ],
   "source": [
    "#Make separate arrays for each line in ln() and INVERSE tables where name of array is the index values\n",
    "y=invCP.iloc[27,:].values\n",
    "\n",
    "#Do linear regression for each array as y=[A] and X=time. Must be SAME length!\n",
    "regression = LinearRegression()\n",
    "regression.fit(X4,y)\n",
    "y_pred = regression.predict(X4)\n",
    "\n",
    "#print table with index value from table (i.e. row name), slope, y-intercept,R2, MSE\n",
    "print(regression.coef_) #slope\n",
    "print(regression.intercept_) #y-intercept\n",
    "print(r2_score(y, y_pred))\n",
    "print(mean_squared_error(y, y_pred))\n",
    "y_pred.mean()\n",
    "\n",
    "print(y_pred)"
   ]
  },
  {
   "cell_type": "code",
   "execution_count": 54,
   "metadata": {
    "scrolled": false
   },
   "outputs": [
    {
     "name": "stdout",
     "output_type": "stream",
     "text": [
      "0.05258782654908961\n",
      "0.04795294200820965\n",
      "0.08042571373088489\n",
      "0.4664931994946472\n",
      "0.14694395942194627\n"
     ]
    }
   ],
   "source": [
    "#Calculate decay rate and stats for each row in df (No. rows - 1) for 0 indexing\n",
    "#Using the only D0,D1,and D4 values [i,:3]\n",
    "regression = LinearRegression()\n",
    "for i in list(range(0,5)):\n",
    "    y = logdf5.iloc[i,:5].values\n",
    "    regression.fit(X5,y)\n",
    "    y_pred = regression.predict(X5)\n",
    "    #print(regression.coef_)\n",
    "    #print(regression.intercept_)\n",
    "    #print(r2_score(y, y_pred))\n",
    "    print(mean_squared_error(y, y_pred))"
   ]
  },
  {
   "cell_type": "code",
   "execution_count": 138,
   "metadata": {},
   "outputs": [],
   "source": [
    "import statsmodels.api as sm"
   ]
  },
  {
   "cell_type": "code",
   "execution_count": 143,
   "metadata": {},
   "outputs": [
    {
     "name": "stderr",
     "output_type": "stream",
     "text": [
      "/Users/brittanysuttner/anaconda3/lib/python3.6/site-packages/statsmodels/stats/stattools.py:72: ValueWarning: omni_normtest is not valid with less than 8 observations; 4 samples were given.\n",
      "  \"samples were given.\" % int(n), ValueWarning)\n"
     ]
    },
    {
     "data": {
      "text/html": [
       "<table class=\"simpletable\">\n",
       "<caption>OLS Regression Results</caption>\n",
       "<tr>\n",
       "  <th>Dep. Variable:</th>            <td>y</td>        <th>  R-squared:         </th> <td>   0.768</td>\n",
       "</tr>\n",
       "<tr>\n",
       "  <th>Model:</th>                   <td>OLS</td>       <th>  Adj. R-squared:    </th> <td>   0.651</td>\n",
       "</tr>\n",
       "<tr>\n",
       "  <th>Method:</th>             <td>Least Squares</td>  <th>  F-statistic:       </th> <td>   6.605</td>\n",
       "</tr>\n",
       "<tr>\n",
       "  <th>Date:</th>             <td>Fri, 13 Nov 2020</td> <th>  Prob (F-statistic):</th>  <td> 0.124</td> \n",
       "</tr>\n",
       "<tr>\n",
       "  <th>Time:</th>                 <td>16:53:52</td>     <th>  Log-Likelihood:    </th> <td> -6.7872</td>\n",
       "</tr>\n",
       "<tr>\n",
       "  <th>No. Observations:</th>      <td>     4</td>      <th>  AIC:               </th> <td>   17.57</td>\n",
       "</tr>\n",
       "<tr>\n",
       "  <th>Df Residuals:</th>          <td>     2</td>      <th>  BIC:               </th> <td>   16.35</td>\n",
       "</tr>\n",
       "<tr>\n",
       "  <th>Df Model:</th>              <td>     1</td>      <th>                     </th>     <td> </td>   \n",
       "</tr>\n",
       "<tr>\n",
       "  <th>Covariance Type:</th>      <td>nonrobust</td>    <th>                     </th>     <td> </td>   \n",
       "</tr>\n",
       "</table>\n",
       "<table class=\"simpletable\">\n",
       "<tr>\n",
       "    <td></td>       <th>coef</th>     <th>std err</th>      <th>t</th>      <th>P>|t|</th>  <th>[0.025</th>    <th>0.975]</th>  \n",
       "</tr>\n",
       "<tr>\n",
       "  <th>const</th> <td>    1.4855</td> <td>    1.104</td> <td>    1.346</td> <td> 0.311</td> <td>   -3.265</td> <td>    6.236</td>\n",
       "</tr>\n",
       "<tr>\n",
       "  <th>x1</th>    <td> 1.427e+04</td> <td> 5550.878</td> <td>    2.570</td> <td> 0.124</td> <td>-9617.558</td> <td> 3.81e+04</td>\n",
       "</tr>\n",
       "</table>\n",
       "<table class=\"simpletable\">\n",
       "<tr>\n",
       "  <th>Omnibus:</th>       <td>   nan</td> <th>  Durbin-Watson:     </th> <td>   1.857</td>\n",
       "</tr>\n",
       "<tr>\n",
       "  <th>Prob(Omnibus):</th> <td>   nan</td> <th>  Jarque-Bera (JB):  </th> <td>   0.439</td>\n",
       "</tr>\n",
       "<tr>\n",
       "  <th>Skew:</th>          <td> 0.667</td> <th>  Prob(JB):          </th> <td>   0.803</td>\n",
       "</tr>\n",
       "<tr>\n",
       "  <th>Kurtosis:</th>      <td> 2.074</td> <th>  Cond. No.          </th> <td>5.95e+03</td>\n",
       "</tr>\n",
       "</table><br/><br/>Warnings:<br/>[1] Standard Errors assume that the covariance matrix of the errors is correctly specified.<br/>[2] The condition number is large, 5.95e+03. This might indicate that there are<br/>strong multicollinearity or other numerical problems."
      ],
      "text/plain": [
       "<class 'statsmodels.iolib.summary.Summary'>\n",
       "\"\"\"\n",
       "                            OLS Regression Results                            \n",
       "==============================================================================\n",
       "Dep. Variable:                      y   R-squared:                       0.768\n",
       "Model:                            OLS   Adj. R-squared:                  0.651\n",
       "Method:                 Least Squares   F-statistic:                     6.605\n",
       "Date:                Fri, 13 Nov 2020   Prob (F-statistic):              0.124\n",
       "Time:                        16:53:52   Log-Likelihood:                -6.7872\n",
       "No. Observations:                   4   AIC:                             17.57\n",
       "Df Residuals:                       2   BIC:                             16.35\n",
       "Df Model:                           1                                         \n",
       "Covariance Type:            nonrobust                                         \n",
       "==============================================================================\n",
       "                 coef    std err          t      P>|t|      [0.025      0.975]\n",
       "------------------------------------------------------------------------------\n",
       "const          1.4855      1.104      1.346      0.311      -3.265       6.236\n",
       "x1          1.427e+04   5550.878      2.570      0.124   -9617.558    3.81e+04\n",
       "==============================================================================\n",
       "Omnibus:                          nan   Durbin-Watson:                   1.857\n",
       "Prob(Omnibus):                    nan   Jarque-Bera (JB):                0.439\n",
       "Skew:                           0.667   Prob(JB):                        0.803\n",
       "Kurtosis:                       2.074   Cond. No.                     5.95e+03\n",
       "==============================================================================\n",
       "\n",
       "Warnings:\n",
       "[1] Standard Errors assume that the covariance matrix of the errors is correctly specified.\n",
       "[2] The condition number is large, 5.95e+03. This might indicate that there are\n",
       "strong multicollinearity or other numerical problems.\n",
       "\"\"\""
      ]
     },
     "execution_count": 143,
     "metadata": {},
     "output_type": "execute_result"
    }
   ],
   "source": [
    "Y2=sm.add_constant(y)\n",
    "est=sm.OLS(X4,Y2)\n",
    "est2=est.fit()\n",
    "est2.summary()"
   ]
  }
 ],
 "metadata": {
  "kernelspec": {
   "display_name": "Python 3",
   "language": "python",
   "name": "python3"
  },
  "language_info": {
   "codemirror_mode": {
    "name": "ipython",
    "version": 3
   },
   "file_extension": ".py",
   "mimetype": "text/x-python",
   "name": "python",
   "nbconvert_exporter": "python",
   "pygments_lexer": "ipython3",
   "version": "3.8.6"
  }
 },
 "nbformat": 4,
 "nbformat_minor": 2
}
